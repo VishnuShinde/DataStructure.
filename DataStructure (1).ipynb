{
 "cells": [
  {
   "cell_type": "raw",
   "id": "a6516f65-0de6-4f7e-8748-af851969aee6",
   "metadata": {},
   "source": [
    "1.What are data structures, and why are they important.\n",
    "  =Data structures are ways of organizing and storing data in a computer so it can be accessed and modified efficiently. They are important because they help optimize performance, enable effective data management, and are essential for designing efficient algorithms.\n",
    "\n",
    "2.Explain the difference between mutable and immutable data types with examples.\n",
    "  =Mutable data can be changed after it is created (e.g., lists, dictionaries in Python).\n",
    "Immutable data cannot be changed after creation (e.g., strings, tuples in Python).\n",
    "Ex:1.Mutable\n",
    "    my_list = [1, 2, 3]  \n",
    "    my_list.append(4)  \n",
    "2.Immutable:\n",
    "  my_str = \"hello\"  \n",
    "  my_str[0] = \"H\"  \n",
    "\n",
    "3.What are the main differences between lists and tuples in Python.\n",
    " =Lists are mutable, use square brackets [ ], and are slower but more flexible.\n",
    "Tuples are immutable, use parentheses ( ), and are faster and safer for fixed data.\n",
    "\n",
    "4.Describe how dictionaries store data.\n",
    " =Dictionaries store data as key-value pairs using a hash table. Each key maps to a specific value, allowing for fast data lookup, insertion, and deletion.\n",
    "\n",
    "5.Why might you use a set instead of a list in Python.\n",
    "  =Use a set instead of a list in Python when you need unique elements and fast membership testing.\n",
    "\n",
    "6.What is a string in Python, and how is it different from a list.\n",
    " =A string in Python is a sequence of characters (e.g., \"hello\"), while a list is a sequence of any data types (e.g., [1, \"a\", True]).\n",
    "\n",
    "Key differences:\n",
    "\n",
    "Strings are immutable (can’t be changed after creation); lists are mutable.\n",
    "Strings store only characters; lists can store mixed data types.\n",
    "\n",
    "7.How do tuples ensure data integrity in Python.\n",
    " =Tuples ensure data integrity by being immutable, meaning their contents cannot be changed after creation, which prevents accidental modification.\n",
    "\n",
    "8.What is a hash table, and how does it relate to dictionaries in Python.\n",
    " =A hash table is a data structure that stores key-value pairs and uses a hash function to quickly compute an index for efficient data lookup.\n",
    "\n",
    "In Python, dictionaries are implemented using hash tables, allowing fast access, insertion, and deletion of items by key.\n",
    "\n",
    "9.Can lists contain different data types in Python.\n",
    "  =in Python, lists can contain different data types in the same list. For example: [1, \"hello\", 3.5, True] is valid.\n",
    "\n",
    "10.Explain why strings are immutable in Python.\n",
    "  =Strings are immutable in Python to ensure data integrity, enable safe sharing, and allow efficient hashing and performance optimizations.\n",
    "\n",
    "11.What advantages do dictionaries offer over lists for certain tasks.\n",
    " =Dictionaries offer faster lookup, insertion, and deletion by key, and allow mapping keys to values, making them better than lists for tasks needing quick access to data by unique keys.\n",
    "\n",
    "12.Describe a scenario where using a tuple would be preferable over a list.\n",
    " =Use a tuple instead of a list when you need to store **fixed, unchangeable data**—for example, representing a point’s coordinates `(x, y)` in 2D space, where the values should not be modified.\n",
    "\n",
    "13.How do sets handle duplicate values in Python.\n",
    "  =Sets automatically remove duplicates by storing only unique elements, so any duplicate values are ignored when added.\n",
    "\n",
    "14.How does the “in” keyword work differently for lists and dictionaries.\n",
    "  =For lists, `in` checks if a value exists anywhere; for dictionaries, `in` checks if a key exists.\n",
    "\n",
    "15. Can you modify the elements of a tuple? Explain why or why not.\n",
    "  =No, you cannot modify elements of a tuple because tuples are immutable, meaning their contents cannot be changed after creation.\n",
    "\n",
    "16.What is a nested dictionary, and give an example of its use case.\n",
    "  =A nested dictionary is a dictionary that contains another dictionary as a value.\n",
    " Ex:users = {\n",
    "    \"alice\": {\"age\": 25, \"email\": \"alice@example.com\"},\n",
    "    \"bob\": {\"age\": 30, \"email\": \"bob@example.com\"}\n",
    "}\n",
    "\n",
    "17.Describe the time complexity of accessing elements in a dictionary.\n",
    "  =Accessing elements in a dictionary has an average time complexity of O(1) (constant time) due to efficient hashing.\n",
    "\n",
    "18.In what situations are lists preferred over dictionaries.\n",
    "  =Lists are preferred over dictionaries when you need to:\n",
    "\n",
    "1.Maintain order of items,\n",
    "\n",
    "2.Access elements by position/index,\n",
    "\n",
    "3.Store a simple sequence without key-value pairs.\n",
    "\n",
    "19.Why are dictionaries considered unordered, and how does that affect data retrieval.\n",
    "  =Why are dictionaries considered unordered, and how does that affect data retrieval.\n",
    "\n",
    "20.Explain the difference between a list and a dictionary in terms of data retrieval.\n",
    "  =Explain the difference between a list and a dictionary in terms of data retrieval.\n"
   ]
  },
  {
   "cell_type": "code",
   "execution_count": 2,
   "id": "cdc3f381-8c25-4522-b53a-8026dac23bae",
   "metadata": {},
   "outputs": [
    {
     "name": "stdout",
     "output_type": "stream",
     "text": [
      "Vishnu Shinde\n"
     ]
    }
   ],
   "source": [
    "#1.Write a code to create a string with your name and print it\n",
    "\n",
    "my_name = \"Vishnu Shinde\"\n",
    "print(my_name)"
   ]
  },
  {
   "cell_type": "code",
   "execution_count": 3,
   "id": "272875cc-1f69-4edf-accd-87f0f1c165a7",
   "metadata": {},
   "outputs": [
    {
     "name": "stdout",
     "output_type": "stream",
     "text": [
      "11\n"
     ]
    }
   ],
   "source": [
    "#2.Write a code to find the length of the string \"Hello World\".\n",
    "\n",
    "text = \"Hello World\"\n",
    "print(len(text))\n"
   ]
  },
  {
   "cell_type": "code",
   "execution_count": 4,
   "id": "af37e830-56b4-4b8b-ac56-c0bd6f0db2f1",
   "metadata": {},
   "outputs": [
    {
     "name": "stdout",
     "output_type": "stream",
     "text": [
      "Pyt\n"
     ]
    }
   ],
   "source": [
    "#3.Write a code to slice the first 3 characters from the string \"Python Programming\".\n",
    "\n",
    "text = \"Python Programming\"\n",
    "sliced_text = text[:3]\n",
    "print(sliced_text)\n",
    "\n"
   ]
  },
  {
   "cell_type": "code",
   "execution_count": 6,
   "id": "136ba569-27cf-474a-873e-7645ebdc9a68",
   "metadata": {},
   "outputs": [
    {
     "name": "stdout",
     "output_type": "stream",
     "text": [
      "HELLO\n"
     ]
    }
   ],
   "source": [
    "#4.Write a code to convert the string \"hello\" to uppercase.\n",
    "\n",
    "text=\"hello\"\n",
    "upper_text=text.upper()\n",
    "print(upper_text)"
   ]
  },
  {
   "cell_type": "code",
   "execution_count": 7,
   "id": "e459f1f3-3796-4138-b5e1-f036c08e5ec6",
   "metadata": {},
   "outputs": [
    {
     "name": "stdout",
     "output_type": "stream",
     "text": [
      "I like orange\n"
     ]
    }
   ],
   "source": [
    "#5. Write a code to replace the word \"apple\" with \"orange\" in the string \"I like apple\".\n",
    "\n",
    "text = \"I like apple\"\n",
    "new_text = text.replace(\"apple\", \"orange\")\n",
    "print(new_text)\n"
   ]
  },
  {
   "cell_type": "code",
   "execution_count": 8,
   "id": "90ab37d8-de29-4108-8a3d-2672757fec14",
   "metadata": {},
   "outputs": [
    {
     "name": "stdout",
     "output_type": "stream",
     "text": [
      "[1, 2, 3, 4, 5]\n"
     ]
    }
   ],
   "source": [
    "#6.Write a code to create a list with numbers 1 to 5 and print it.\n",
    "\n",
    "List=[1,2,3,4,5]\n",
    "print(List)"
   ]
  },
  {
   "cell_type": "code",
   "execution_count": 9,
   "id": "61440f0b-ec0b-467d-afb3-0b5568ba85b9",
   "metadata": {},
   "outputs": [
    {
     "name": "stdout",
     "output_type": "stream",
     "text": [
      "[1, 2, 3, 4, 10]\n"
     ]
    }
   ],
   "source": [
    "#7.Write a code to append the number 10 to the list [1, 2, 3, 4].\n",
    "\n",
    "my_list = [1, 2, 3, 4]\n",
    "my_list.append(10)\n",
    "print(my_list)\n"
   ]
  },
  {
   "cell_type": "code",
   "execution_count": 10,
   "id": "f46406d2-264a-4934-a402-1bdd3373c3ef",
   "metadata": {},
   "outputs": [
    {
     "name": "stdout",
     "output_type": "stream",
     "text": [
      "[1, 2, 4, 5]\n"
     ]
    }
   ],
   "source": [
    "#8.Write a code to remove the number 3 from the list [1, 2, 3, 4, 5]\n",
    "\n",
    "my_list = [1, 2, 3, 4, 5]\n",
    "my_list.remove(3)\n",
    "print(my_list)\n",
    "\n"
   ]
  },
  {
   "cell_type": "code",
   "execution_count": 11,
   "id": "d6ea7d89-70dd-477e-ad6d-0450187c95de",
   "metadata": {},
   "outputs": [
    {
     "name": "stdout",
     "output_type": "stream",
     "text": [
      "b\n"
     ]
    }
   ],
   "source": [
    "#9. Write a code to access the second element in the list ['a', 'b', 'c', 'd'].\n",
    "\n",
    "letters = ['a', 'b', 'c', 'd']\n",
    "print(letters[1]) \n"
   ]
  },
  {
   "cell_type": "code",
   "execution_count": 12,
   "id": "d2a981b9-cda5-42fa-9557-651faa7e7b26",
   "metadata": {},
   "outputs": [
    {
     "name": "stdout",
     "output_type": "stream",
     "text": [
      "[50, 40, 30, 20, 10]\n"
     ]
    }
   ],
   "source": [
    "#10. Write a code to reverse the list [10, 20, 30, 40, 50].\n",
    "\n",
    "numbers = [10, 20, 30, 40, 50]\n",
    "numbers.reverse()\n",
    "print(numbers)\n",
    "\n"
   ]
  },
  {
   "cell_type": "code",
   "execution_count": 13,
   "id": "b3a30644-7b06-4207-ae8a-6b655e9272aa",
   "metadata": {},
   "outputs": [
    {
     "name": "stdout",
     "output_type": "stream",
     "text": [
      "(100, 200, 300)\n"
     ]
    }
   ],
   "source": [
    "#11.Write a code to create a tuple with the elements 100, 200, 300 and print it.\n",
    "\n",
    "my_tuple = (100, 200, 300)\n",
    "print(my_tuple)\n"
   ]
  },
  {
   "cell_type": "code",
   "execution_count": 14,
   "id": "5f9f3efe-1f8f-40f4-b5d4-fdf739e98483",
   "metadata": {},
   "outputs": [
    {
     "name": "stdout",
     "output_type": "stream",
     "text": [
      "blue\n"
     ]
    }
   ],
   "source": [
    "#12.Write a code to access the second-to-last element of the tuple ('red', 'green', 'blue', 'yellow').\n",
    "\n",
    "colors = ('red', 'green', 'blue', 'yellow')\n",
    "print(colors[-2])\n"
   ]
  },
  {
   "cell_type": "code",
   "execution_count": 15,
   "id": "dd96b526-49b4-4f3b-bd6f-5f7ffcfa3f91",
   "metadata": {},
   "outputs": [
    {
     "name": "stdout",
     "output_type": "stream",
     "text": [
      "5\n"
     ]
    }
   ],
   "source": [
    "#13.Write a code to find the minimum number in the tuple (10, 20, 5, 15).\n",
    "\n",
    "numbers = (10, 20, 5, 15)\n",
    "print(min(numbers))\n"
   ]
  },
  {
   "cell_type": "code",
   "execution_count": 17,
   "id": "972dfc98-d9ec-4346-947e-b22d0ecc7469",
   "metadata": {},
   "outputs": [
    {
     "name": "stdout",
     "output_type": "stream",
     "text": [
      "1\n"
     ]
    }
   ],
   "source": [
    "#14.Write a code to find the index of the element \"cat\" in the tuple ('dog', 'cat', 'rabbit').\n",
    "\n",
    "animals = ('dog', 'cat', 'rabbit')\n",
    "print(animals.index('cat'))\n",
    "\n"
   ]
  },
  {
   "cell_type": "code",
   "execution_count": 18,
   "id": "58bda81a-0598-4a77-af2c-82380fdbedab",
   "metadata": {},
   "outputs": [
    {
     "name": "stdout",
     "output_type": "stream",
     "text": [
      "False\n"
     ]
    }
   ],
   "source": [
    "#15. Write a code to create a tuple containing three different fruits and check if \"kiwi\" is in it.\n",
    "\n",
    "fruits = (\"apple\", \"banana\", \"mango\")\n",
    "print(\"kiwi\" in fruits)\n",
    "\n"
   ]
  },
  {
   "cell_type": "code",
   "execution_count": 19,
   "id": "b89e2716-7a63-4469-a757-b4e5b8d5557c",
   "metadata": {},
   "outputs": [
    {
     "name": "stdout",
     "output_type": "stream",
     "text": [
      "{'c', 'a', 'b'}\n"
     ]
    }
   ],
   "source": [
    "#16.Write a code to create a set with the elements 'a', 'b', 'c' and print it\n",
    "\n",
    "my_set = {'a', 'b', 'c'}\n",
    "print(my_set)\n"
   ]
  },
  {
   "cell_type": "code",
   "execution_count": 20,
   "id": "1445bc92-4a5b-47f1-8684-f030adc4e05a",
   "metadata": {},
   "outputs": [
    {
     "name": "stdout",
     "output_type": "stream",
     "text": [
      "set()\n"
     ]
    }
   ],
   "source": [
    "#17.Write a code to clear all elements from the set {1, 2, 3, 4, 5}\n",
    "\n",
    "my_set = {1, 2, 3, 4, 5}\n",
    "my_set.clear()\n",
    "print(my_set)\n",
    "\n"
   ]
  },
  {
   "cell_type": "code",
   "execution_count": 21,
   "id": "01eacc5f-e8a4-4191-847d-7e493bea26e9",
   "metadata": {},
   "outputs": [
    {
     "name": "stdout",
     "output_type": "stream",
     "text": [
      "{1, 2, 3}\n"
     ]
    }
   ],
   "source": [
    "#18.Write a code to remove the element 4 from the set {1, 2, 3, 4}\n",
    "\n",
    "my_set = {1, 2, 3, 4}\n",
    "my_set.remove(4)\n",
    "print(my_set)\n"
   ]
  },
  {
   "cell_type": "code",
   "execution_count": 22,
   "id": "54760d1b-0c26-46bf-812e-e216ae2fcc8c",
   "metadata": {},
   "outputs": [
    {
     "name": "stdout",
     "output_type": "stream",
     "text": [
      "{1, 2, 3, 4, 5}\n"
     ]
    }
   ],
   "source": [
    "#19.Write a code to find the union of two sets {1, 2, 3} and {3, 4, 5}.\n",
    "\n",
    "set1 = {1, 2, 3}\n",
    "set2 = {3, 4, 5}\n",
    "union_set = set1.union(set2)\n",
    "print(union_set)\n"
   ]
  },
  {
   "cell_type": "code",
   "execution_count": 23,
   "id": "c24cf857-4c48-410b-965c-7d470c5af8b0",
   "metadata": {},
   "outputs": [
    {
     "name": "stdout",
     "output_type": "stream",
     "text": [
      "{2, 3}\n"
     ]
    }
   ],
   "source": [
    "#20. Write a code to find the intersection of two sets {1, 2, 3} and {2, 3, 4}.\n",
    "\n",
    "set1 = {1, 2, 3}\n",
    "set2 = {2, 3, 4}\n",
    "intersection_set = set1.intersection(set2)\n",
    "print(intersection_set)\n"
   ]
  },
  {
   "cell_type": "code",
   "execution_count": 24,
   "id": "489ebc03-313b-4db4-9eeb-2f39f6e7e984",
   "metadata": {},
   "outputs": [
    {
     "name": "stdout",
     "output_type": "stream",
     "text": [
      "{'name': 'Alice', 'age': 30, 'city': 'New York'}\n"
     ]
    }
   ],
   "source": [
    "#21.Write a code to create a dictionary with the keys \"name\", \"age\", and \"city\", and print it.\n",
    "\n",
    "person = {\"name\": \"Alice\", \"age\": 30, \"city\": \"New York\"}\n",
    "print(person)\n"
   ]
  },
  {
   "cell_type": "code",
   "execution_count": 25,
   "id": "346fa990-bf8a-42a1-b113-5d7012cb5ef3",
   "metadata": {},
   "outputs": [
    {
     "name": "stdout",
     "output_type": "stream",
     "text": [
      "{'name': 'John', 'age': 25, 'country': 'USA'}\n"
     ]
    }
   ],
   "source": [
    "#22.Write a code to add a new key-value pair \"country\": \"USA\" to the dictionary {'name': 'John', 'age': 25}.\n",
    "\n",
    "person = {'name': 'John', 'age': 25}\n",
    "person['country'] = 'USA'\n",
    "print(person)\n"
   ]
  },
  {
   "cell_type": "code",
   "execution_count": 26,
   "id": "0a5d8767-a8a6-47bf-a45c-2215b0320870",
   "metadata": {},
   "outputs": [
    {
     "name": "stdout",
     "output_type": "stream",
     "text": [
      "Alice\n"
     ]
    }
   ],
   "source": [
    "#23.Write a code to access the value associated with the key \"name\" in the dictionary {'name': 'Alice', 'age': 30}.\n",
    "\n",
    "person = {'name': 'Alice', 'age': 30}\n",
    "print(person['name'])\n"
   ]
  },
  {
   "cell_type": "code",
   "execution_count": 27,
   "id": "25ebd721-2c4a-4e7f-98a6-2be836ed3797",
   "metadata": {},
   "outputs": [
    {
     "name": "stdout",
     "output_type": "stream",
     "text": [
      "{'name': 'Bob', 'city': 'New York'}\n"
     ]
    }
   ],
   "source": [
    "#24.Write a code to remove the key \"age\" from the dictionary {'name': 'Bob', 'age': 22, 'city': 'New York'}.\n",
    "\n",
    "person = {'name': 'Bob', 'age': 22, 'city': 'New York'}\n",
    "del person['age']\n",
    "print(person)\n"
   ]
  },
  {
   "cell_type": "code",
   "execution_count": 28,
   "id": "91d66fd6-7320-4d22-b55b-d8e841b20942",
   "metadata": {},
   "outputs": [
    {
     "name": "stdout",
     "output_type": "stream",
     "text": [
      "True\n"
     ]
    }
   ],
   "source": [
    "#25.Write a code to check if the key \"city\" exists in the dictionary {'name': 'Alice', 'city': 'Paris'}.\n",
    "\n",
    "\n",
    "person = {'name': 'Alice', 'city': 'Paris'}\n",
    "print('city' in person)\n"
   ]
  },
  {
   "cell_type": "code",
   "execution_count": 29,
   "id": "7a43d310-5cbc-471d-82b6-5ca8088432ed",
   "metadata": {},
   "outputs": [
    {
     "name": "stdout",
     "output_type": "stream",
     "text": [
      "[1, 2, 3]\n",
      "('a', 'b', 'c')\n",
      "{'name': 'John', 'age': 25}\n"
     ]
    }
   ],
   "source": [
    "#26.Write a code to create a list, a tuple, and a dictionary, and print them all.\n",
    "\n",
    "my_list = [1, 2, 3]\n",
    "my_tuple = ('a', 'b', 'c')\n",
    "my_dict = {'name': 'John', 'age': 25}\n",
    "\n",
    "print(my_list)\n",
    "print(my_tuple)\n",
    "print(my_dict)\n"
   ]
  },
  {
   "cell_type": "code",
   "execution_count": 30,
   "id": "d077cbef-a126-44c2-b604-ba55c5b09098",
   "metadata": {},
   "outputs": [
    {
     "name": "stdout",
     "output_type": "stream",
     "text": [
      "[10, 31, 52, 84, 97]\n"
     ]
    }
   ],
   "source": [
    "#27.Write a code to create a list of 5 random numbers between 1 and 100, sort it in ascending order, and print the result.\n",
    "\n",
    "import random\n",
    "\n",
    "random_numbers = [random.randint(1, 100) for _ in range(5)]\n",
    "random_numbers.sort()\n",
    "print(random_numbers)\n"
   ]
  },
  {
   "cell_type": "code",
   "execution_count": 31,
   "id": "7611f19f-2b2c-4e42-94cc-c072c6712aaa",
   "metadata": {},
   "outputs": [
    {
     "name": "stdout",
     "output_type": "stream",
     "text": [
      "date\n"
     ]
    }
   ],
   "source": [
    "#28.Write a code to create a list with strings and print the element at the third index.\n",
    "\n",
    "my_list = [\"apple\", \"banana\", \"cherry\", \"date\", \"fig\"]\n",
    "print(my_list[3]) \n"
   ]
  },
  {
   "cell_type": "code",
   "execution_count": 32,
   "id": "abeb57de-f09e-4b7b-9f5a-0eef3f2ebae6",
   "metadata": {},
   "outputs": [
    {
     "name": "stdout",
     "output_type": "stream",
     "text": [
      "{'a': 1, 'b': 2, 'c': 3, 'd': 4}\n"
     ]
    }
   ],
   "source": [
    "#29.Write a code to combine two dictionaries into one and print the result.\n",
    "\n",
    "dict1 = {'a': 1, 'b': 2}\n",
    "dict2 = {'c': 3, 'd': 4}\n",
    "combined_dict = {**dict1, **dict2}\n",
    "print(combined_dict)\n"
   ]
  },
  {
   "cell_type": "code",
   "execution_count": 33,
   "id": "e66ebb58-f6bc-4eb2-9bc2-c7fdf457bfc8",
   "metadata": {},
   "outputs": [
    {
     "name": "stdout",
     "output_type": "stream",
     "text": [
      "{'cherry', 'apple', 'banana'}\n"
     ]
    }
   ],
   "source": [
    "#30.Write a code to convert a list of strings into a set.\n",
    "\n",
    "my_list = ['apple', 'banana', 'apple', 'cherry']\n",
    "my_set = set(my_list)\n",
    "print(my_set)\n"
   ]
  },
  {
   "cell_type": "code",
   "execution_count": null,
   "id": "66ddb9dd-c5a9-4a4f-8c51-8ad606d053f6",
   "metadata": {},
   "outputs": [],
   "source": []
  }
 ],
 "metadata": {
  "kernelspec": {
   "display_name": "Python 3 (ipykernel)",
   "language": "python",
   "name": "python3"
  },
  "language_info": {
   "codemirror_mode": {
    "name": "ipython",
    "version": 3
   },
   "file_extension": ".py",
   "mimetype": "text/x-python",
   "name": "python",
   "nbconvert_exporter": "python",
   "pygments_lexer": "ipython3",
   "version": "3.12.4"
  },
  "widgets": {
   "application/vnd.jupyter.widget-state+json": {
    "state": {},
    "version_major": 2,
    "version_minor": 0
   }
  }
 },
 "nbformat": 4,
 "nbformat_minor": 5
}
